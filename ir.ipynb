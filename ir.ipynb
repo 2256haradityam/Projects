import json
import math
from geopy.distance import geodesic
import networkx as nx


def calculate_distance(coord1, coord2):
    """Calculate the distance between two coordinates using geodesic distance."""
    return geodesic(coord1, coord2).km


def process_geojson(input_geojson):
    """Process the GeoJSON and extract railway stations and main railway lines."""
    data = json.loads(input_geojson)
    stations = {}
    railway_lines = []

    # Extract stations
    for feature in data['features']:
        if feature['properties'].get('railway') == 'station':
            station_id = feature['properties']['@id']
            name = feature['properties'].get('name')
            if name:
                stations[station_id] = {
                    'name': name,
                    'coordinates': feature['geometry']['coordinates']
                }

    # Extract railway lines (main lines)
    for feature in data['features']:
        if feature['properties'].get('railway') == 'rail' and feature['properties'].get('usage') == 'main':
            railway_lines.append({
                'id': feature['properties']['@id'],
                'coordinates': feature['geometry']['coordinates'],
                'name': feature['properties'].get('name'),
                'maxspeed': feature['properties'].get('maxspeed', 100),
                'passenger_lines': feature['properties'].get('passenger_lines', 2)
            })

    return stations, railway_lines


def build_station_graph(stations, railway_lines):
    """Build a graph of stations connected by railway lines."""
    G = nx.Graph()
    
    # Add stations to graph
    for station_id, station in stations.items():
        G.add_node(station_id, name=station['name'], coordinates=station['coordinates'])

    # Add edges between stations based on railway lines
    for line in railway_lines:
        coords = line['coordinates']
        maxspeed = line['maxspeed']
        passenger_lines = line['passenger_lines']

        for i in range(len(coords) - 1):
            start_coord = coords[i]
            end_coord = coords[i + 1]

            # Find closest stations to the coordinates
            start_station = None
            end_station = None
            for station_id, station in stations.items():
                if geodesic(start_coord, station['coordinates']).km < 0.1:
                    start_station = station_id
                if geodesic(end_coord, station['coordinates']).km < 0.1:
                    end_station = station_id

            if start_station and end_station:
                distance = calculate_distance(start_coord, end_coord)
                G.add_edge(start_station, end_station, distance=distance, maxspeed=maxspeed, passenger_lines=passenger_lines)

    return G


def generate_output_data(stations, G):
    """Generate the output data in the required format."""
    output = []

    for station_id, station_data in stations.items():
        neighbors = []
        for neighbor in G.neighbors(station_id):
            edge_data = G[station_id][neighbor]
            neighbors.append({
                'neighbor_station': stations[neighbor]['name'],
                'distance': edge_data['distance'],
                'maxspeed': edge_data['maxspeed'],
                'passenger_lines': edge_data['passenger_lines']
            })
        
        output.append({
            'station_name': station_data['name'],
            'neighbors': neighbors
        })

    return json.dumps(output, indent=2)


# Example usage
input_geojson = """<Insert your GeoJSON data here>"""  # Insert GeoJSON content as string

stations, railway_lines = process_geojson(input_geojson)
G = build_station_graph(stations, railway_lines)
output_data = generate_output_data(stations, G)

# Print or save the output data
print(output_data)

